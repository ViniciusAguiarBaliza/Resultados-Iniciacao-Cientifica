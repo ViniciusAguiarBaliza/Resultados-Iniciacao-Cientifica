{
 "cells": [
  {
   "cell_type": "code",
   "execution_count": 1,
   "metadata": {},
   "outputs": [],
   "source": [
    "#Bibliotecas importadas\n",
    "\n",
    "import numpy as np\n",
    "import matplotlib.pylab as plt"
   ]
  },
  {
   "cell_type": "code",
   "execution_count": 2,
   "metadata": {},
   "outputs": [],
   "source": [
    "#Base do código Runge-Kutta de ordem 4:\n",
    "\n",
    "def rk4vec( t0, m, u0, dt, f ):\n",
    "    \n",
    "    f0 = f ( t0, m, u0 )\n",
    "    t1 = t0 + dt / 2.0\n",
    "    u1 = np.zeros ( m )\n",
    "    u1[0:m] = u0[0:m] + dt * f0[0:m] / 2.0\n",
    "    f1 = f ( t1, m, u1 )\n",
    "    \n",
    "    t2 = t0 + dt / 2.0\n",
    "    u2 = np.zeros ( m )\n",
    "    u2[0:m] = u0[0:m] + dt * f1[0:m] / 2.0\n",
    "    f2 = f ( t2, m, u2 )\n",
    "    \n",
    "    t3 = t0 + dt\n",
    "    u3 = np.zeros ( m )\n",
    "    u3[0:m] = u0[0:m] + dt * f2[0:m]\n",
    "    f3 = f ( t3, m, u3 )\n",
    "    \n",
    "    u = np.zeros ( m )\n",
    "    u[0:m] = u0[0:m] + ( dt / 6.0 ) * ( \\\n",
    "                                       f0[0:m] \\\n",
    "                                       + 2.0 * f1[0:m] \\\n",
    "                                       + 2.0 * f2[0:m] \\\n",
    "                                       +       f3[0:m] )\n",
    "    return u"
   ]
  },
  {
   "cell_type": "code",
   "execution_count": 3,
   "metadata": {},
   "outputs": [],
   "source": [
    "### Velocidade inicial --> v0 = [Vx,Vy,Vz]:\n",
    "v0 = [0,7000,0]\n",
    "\n",
    "### Posição inicial --> r0 = [Rx,Ry,Rz]:\n",
    "r0 = [10000000,0,0]\n",
    "\n",
    "\n",
    "def particula():\n",
    "    m = 6   # numero de equações de derivadas (vx,vy,vz,ax,ay,az)\n",
    "    \n",
    "    n = 10000 ### número de passos temporais\n",
    "    tmin = 0\n",
    "    tmax = 14710 ### tempo máximo de simulação\n",
    "    t = np.linspace(tmin,tmax,n)\n",
    "    dt = t[1] - t[0]\n",
    "    \n",
    "    # cria arrays que recebem os dados de posição e velocidade\n",
    "    x  = np.zeros([n])\n",
    "    vx = np.zeros([n])\n",
    "    y  = np.zeros([n])\n",
    "    vy = np.zeros([n])\n",
    "    z  = np.zeros([n])\n",
    "    vz = np.zeros([n])\n",
    "    \n",
    "    # cria arrays para os dados das derivadas\n",
    "    u0 = np.zeros([m])\n",
    "    \n",
    "    u1 = np.zeros_like(u0)\n",
    "    \n",
    "    # condicoes iniciais\n",
    "    u0[0] = r0[0] #x0\n",
    "    u0[1] = v0[0] #v0x\n",
    "    u0[2] = r0[1] #y0\n",
    "    u0[3] = v0[1] #v0y\n",
    "    u0[4] = r0[2] #z0\n",
    "    u0[5] = v0[2] #v0z\n",
    "\n",
    "    # tempo inicial\n",
    "    t0 = t[0]\n",
    "    \n",
    "    for i in range(n):\n",
    "        \n",
    "        # colocamos os valores iniciais nos arrays das variaveis\n",
    "        \n",
    "        x[i]  = u0[0]\n",
    "        vx[i] = u0[1]\n",
    "        y[i]  = u0[2]\n",
    "        vy[i] = u0[3]\n",
    "        z[i]  = u0[4]\n",
    "        vz[i] = u0[5]\n",
    "        \n",
    "        # chamamos a rotina rk4vec\n",
    "        u1 = rk4vec( t[i], m, u0, dt, part_f)\n",
    "        \n",
    "        u0 = np.copy(u1)\n",
    "        \n",
    "    return x,vx,y,vy,z,vz,t"
   ]
  },
  {
   "cell_type": "code",
   "execution_count": 4,
   "metadata": {},
   "outputs": [],
   "source": [
    "# Funcao que tem as equacoes diferenciais\n",
    "def part_f(t,m,u):\n",
    "    uprime = np.zeros_like(u)\n",
    "    \n",
    "    #LEGENDA:\n",
    "    \n",
    "    #u[0] = x\n",
    "    #u[1] = vx\n",
    "    #u[2] = y\n",
    "    #u[3] = vx\n",
    "    #u[4] = z\n",
    "    #u[5] = vz\n",
    "    #uprime[0] = derivada da posição em x (velocidade vx)\n",
    "    #uprime[1] = derivada da velocidade em x (aceleração ax)\n",
    "    #uprime[2] = derivada da posição em y (velocidade vy)\n",
    "    #uprime[3] = derivada da velocidade em y (aceleração ay)\n",
    "    #uprime[4] = derivada da posição em z (velocidade vz)\n",
    "    #uprime[5] = derivada da velocidade em z (aceleração az)\n",
    "    \n",
    "    \n",
    "    #Dados para definição da Força Gravitacional (F)\n",
    "    \n",
    "    #Massa da Terra:\n",
    "    M = 5.97e24\n",
    "    \n",
    "    #Massa do Satélite:\n",
    "    m = 4.5e8\n",
    "    \n",
    "    #Constante gravitacional universal:\n",
    "    G = 6.67e-11\n",
    "    \n",
    "    #Parâmetro gravitacional padrão\n",
    "    µ = 398600e9\n",
    "    \n",
    "    #Distancia entre o satélite e a Terra\n",
    "    r = np.sqrt(u[0]**2 + u[2]**2)          #r^2 = x^2 + y^2\n",
    "    \n",
    "    #Força gravitacional:\n",
    "    F = -(µ * m) / (r**2)\n",
    "    \n",
    "    #Aceleração gravitacional:\n",
    "    a = F/m\n",
    "    \n",
    "    #Angulo entre o vetor da força e o eixo adjascente ao ângulo:\n",
    "    angulo = np.arctan(abs(u[2]/u[0]))      # angulo = arctan(|y/x|)\n",
    "    \n",
    "    #Aceleração em x:\n",
    "    ax = a*np.cos(angulo)\n",
    "    \n",
    "    #Aceleração em y:\n",
    "    ay = a*np.sin(angulo)\n",
    "    \n",
    "    #Aceleração em z:\n",
    "    az = 0\n",
    "    \n",
    "\n",
    "    uprime[0] = u[1]    #Derivada de x = vx\n",
    "    \n",
    "    uprime[2] = u[3]    #Derivada de y = vy\n",
    "    \n",
    "    uprime[4] = u[5]    #Derivada de z = vz\n",
    "        \n",
    "        \n",
    "    #Condições para que a aceleração sempre aponte para o centro:\n",
    "    \n",
    "    if u[0] > 0:             #Se x é positivo:\n",
    "        uprime[1] = ax           #Derivada de vx = -ax    \n",
    "        \n",
    "    \n",
    "    if u[0] < 0:             #Se x é negativo:\n",
    "        uprime[1] = -ax          #Derivada de vx = ax      \n",
    "        \n",
    "                         \n",
    "    if u[2] > 0:             #Se y é positivo:                         \n",
    "        uprime[3] = ay           #Derivada de vy = -ay    \n",
    "        \n",
    "        \n",
    "    if u[2] < 0:             #Se y é negativo:   \n",
    "        uprime[3] = -ay          #Derivada de vy = ay    \n",
    "        \n",
    "        \n",
    "    if u[0] == 0:            #Se x = 0:\n",
    "        uprime[1] = 0            #Derivada de vx = 0\n",
    "        \n",
    "          \n",
    "    if u[2] == 0:            #Se y = 0:\n",
    "        uprime[3] = 0            #Derivada de vy = 0\n",
    "        \n",
    "        \n",
    "    uprime[5] = 0            #Derivada de vz = 0\n",
    "    \n",
    "    \n",
    "    return uprime"
   ]
  },
  {
   "cell_type": "code",
   "execution_count": 5,
   "metadata": {},
   "outputs": [],
   "source": [
    "x,vx,y,vy,z,vz,t = particula()"
   ]
  },
  {
   "cell_type": "code",
   "execution_count": 6,
   "metadata": {},
   "outputs": [
    {
     "data": {
      "image/png": "[encoded data removed]",
      "text/plain": [
       "<Figure size 432x288 with 1 Axes>"
      ]
     },
     "metadata": {
      "needs_background": "light"
     },
     "output_type": "display_data"
    }
   ],
   "source": [
    "#Gráfico:\n",
    "\n",
    "fig = plt.figure()\n",
    "\n",
    "#Tamanho do gráfico\n",
    "ax = fig.add_axes([0.1,0.1,1,1.5])\n",
    "\n",
    "#Plotagem da posição y em função de x:\n",
    "ax.plot(x, y, color='r', label = \"Órbita do satélite\")\n",
    "\n",
    "#Definir limites do gráfico (opcional)\n",
    "#plt.xlim(-1.75e7,1.25e7)\n",
    "#plt.ylim(-1.5e7,1.5e7)\n",
    "\n",
    "#Desenho da Terra (considerando raio aproximado de 6400 km)\n",
    "Terra = plt.Circle((0,0), 6400000, color='b', label = \"Terra\")\n",
    "ax.add_patch(Terra)\n",
    "\n",
    "#Local da legenda\n",
    "ax.legend(loc=2)\n",
    "\n",
    "#Títulos dos eixos e principal\n",
    "ax.set_xlabel('x',fontsize=16)\n",
    "ax.set_ylabel('y',fontsize=16)\n",
    "ax.set_title(\"Simulação da órbita\",fontsize=16);"
   ]
  },
  {
   "cell_type": "code",
   "execution_count": 10,
   "metadata": {},
   "outputs": [
    {
     "data": {
      "text/plain": [
       "-4388.571412532962"
      ]
     },
     "execution_count": 10,
     "metadata": {},
     "output_type": "execute_result"
    }
   ],
   "source": [
    "vy[4999]"
   ]
  },
  {
   "cell_type": "code",
   "execution_count": 7,
   "metadata": {},
   "outputs": [
    {
     "name": "stdout",
     "output_type": "stream",
     "text": [
      "10000000.0\n",
      "-15950520.775040077\n"
     ]
    }
   ],
   "source": [
    "print(max(x))\n",
    "print(min(x))"
   ]
  },
  {
   "cell_type": "code",
   "execution_count": 8,
   "metadata": {},
   "outputs": [
    {
     "name": "stdout",
     "output_type": "stream",
     "text": [
      "12629536.922702722\n",
      "-12629536.858716426\n"
     ]
    }
   ],
   "source": [
    "print(max(y))\n",
    "print(min(y))"
   ]
  },
  {
   "cell_type": "code",
   "execution_count": null,
   "metadata": {},
   "outputs": [],
   "source": []
  },
  {
   "cell_type": "code",
   "execution_count": null,
   "metadata": {},
   "outputs": [],
   "source": []
  },
  {
   "cell_type": "code",
   "execution_count": null,
   "metadata": {},
   "outputs": [],
   "source": []
  },
  {
   "cell_type": "code",
   "execution_count": null,
   "metadata": {},
   "outputs": [],
   "source": []
  }
 ],
 "metadata": {
  "kernelspec": {
   "display_name": "Python 3 (ipykernel)",
   "language": "python",
   "name": "python3"
  },
  "language_info": {
   "codemirror_mode": {
    "name": "ipython",
    "version": 3
   },
   "file_extension": ".py",
   "mimetype": "text/x-python",
   "name": "python",
   "nbconvert_exporter": "python",
   "pygments_lexer": "ipython3",
   "version": "3.9.7"
  }
 },
 "nbformat": 4,
 "nbformat_minor": 2
}
