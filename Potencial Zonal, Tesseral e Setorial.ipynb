{
 "cells": [
  {
   "cell_type": "code",
   "execution_count": 1,
   "metadata": {},
   "outputs": [],
   "source": [
    "import numpy as np\n",
    "import math\n",
    "import matplotlib\n",
    "import matplotlib.pyplot as plt"
   ]
  },
  {
   "cell_type": "code",
   "execution_count": 2,
   "metadata": {},
   "outputs": [],
   "source": [
    "# Longitude geocêntrica\n",
    "λ = np.linspace(0, 2*np.pi, 128)\n",
    "\n",
    "# Latitude geocêntrica\n",
    "ϕ = np.linspace(0, np.pi, 128)"
   ]
  },
  {
   "cell_type": "code",
   "execution_count": 3,
   "metadata": {},
   "outputs": [],
   "source": [
    "µ = 398600\n",
    "\n",
    "a_e = 6378139"
   ]
  },
  {
   "cell_type": "code",
   "execution_count": 4,
   "metadata": {},
   "outputs": [],
   "source": [
    "r = np.linspace(1, 10000, 128)\n",
    "\n",
    "r = np.linalg.norm(r)\n",
    "\n",
    "#x = r[0]\n",
    "\n",
    "#y = r[1]\n",
    "\n",
    "#z = r[2]"
   ]
  },
  {
   "cell_type": "markdown",
   "metadata": {},
   "source": [
    "### Coeficientes normalizados"
   ]
  },
  {
   "cell_type": "code",
   "execution_count": 5,
   "metadata": {},
   "outputs": [],
   "source": [
    "# transformar em listas de 1 linha"
   ]
  },
  {
   "cell_type": "code",
   "execution_count": 6,
   "metadata": {},
   "outputs": [],
   "source": [
    "J = [484.16555e-6,-0.95848e-6]"
   ]
  },
  {
   "cell_type": "code",
   "execution_count": 7,
   "metadata": {},
   "outputs": [],
   "source": [
    "J_2N = 484.16555e-6\n",
    "\n",
    "J_3N = -0.95848e-6"
   ]
  },
  {
   "cell_type": "code",
   "execution_count": 8,
   "metadata": {},
   "outputs": [],
   "source": [
    "C_21N = -0.00021\n",
    "\n",
    "C_31N = 2.02826\n",
    "\n",
    "C_22N = 2.4340\n",
    "\n",
    "C_32N = 0.89198\n",
    "\n",
    "C_33N = 0.70256"
   ]
  },
  {
   "cell_type": "code",
   "execution_count": 9,
   "metadata": {},
   "outputs": [],
   "source": [
    "S_21N = -0.00406\n",
    "\n",
    "S_31N = 0.25244\n",
    "\n",
    "S_22N = -1.39786\n",
    "\n",
    "S_32N = -0.62241\n",
    "\n",
    "S_33N = 1.41140"
   ]
  },
  {
   "cell_type": "markdown",
   "metadata": {},
   "source": [
    "### Coeficientes"
   ]
  },
  {
   "cell_type": "code",
   "execution_count": 18,
   "metadata": {},
   "outputs": [],
   "source": [
    "J_2 = J_2N / np.sqrt(1 / (2 * 2 + 1))\n",
    "\n",
    "J_3 = J_3N / np.sqrt(1 / (2 * 3 + 1))"
   ]
  },
  {
   "cell_type": "code",
   "execution_count": 11,
   "metadata": {},
   "outputs": [],
   "source": [
    "C_21 = C_21N / np.sqrt((1 / (4 * 2 + 2)) * (math.factorial(2 + 1) / math.factorial(2 - 1)))\n",
    "\n",
    "C_31 = C_31N / np.sqrt((1 / (4 * 3 + 2)) * (math.factorial(3 + 1) / math.factorial(3 - 1)))\n",
    "\n",
    "C_22 = C_22N / np.sqrt((1 / (4 * 2 + 2)) * (math.factorial(2 + 2) / math.factorial(2 - 2)))\n",
    "\n",
    "C_32 = C_32N / np.sqrt((1 / (4 * 3 + 2)) * (math.factorial(3 + 2) / math.factorial(3 - 2)))\n",
    "\n",
    "C_33 = C_33N / np.sqrt((1 / (4 * 3 + 2)) * (math.factorial(3 + 3) / math.factorial(3 - 3)))"
   ]
  },
  {
   "cell_type": "code",
   "execution_count": 12,
   "metadata": {},
   "outputs": [],
   "source": [
    "S_21 = S_21N / np.sqrt((1 / (4 * 2 + 2)) * (math.factorial(2 + 1) / math.factorial(2 - 1)))\n",
    "\n",
    "S_31 = S_31N / np.sqrt((1 / (4 * 3 + 2)) * (math.factorial(3 + 1) / math.factorial(3 - 1)))\n",
    "\n",
    "S_22 = S_22N / np.sqrt((1 / (4 * 2 + 2)) * (math.factorial(2 + 2) / math.factorial(2 - 2)))\n",
    "\n",
    "S_32 = S_32N / np.sqrt((1 / (4 * 3 + 2)) * (math.factorial(3 + 2) / math.factorial(3 - 2)))\n",
    "\n",
    "S_33 = S_33N / np.sqrt((1 / (4 * 3 + 2)) * (math.factorial(3 + 3) / math.factorial(3 - 3)))"
   ]
  },
  {
   "cell_type": "markdown",
   "metadata": {},
   "source": [
    "## Potencial Zonal"
   ]
  },
  {
   "cell_type": "code",
   "execution_count": 19,
   "metadata": {},
   "outputs": [],
   "source": [
    "U_z = (µ / r) * \\\n",
    "      (1 - ((a_e / r)**2 * (J_2/2) * (3 * (np.sin(ϕ))**2 - 1)) * (1 + np.sqrt(1 / (2 * 2 + 1)))  - \\\n",
    "      ((a_e / r)**3 * (J_3/2) * (5 * (np.sin(ϕ))**3 - 3 * np.sin(ϕ))) * (1 + np.sqrt(1 / (2 * 3 + 1))))"
   ]
  },
  {
   "cell_type": "markdown",
   "metadata": {},
   "source": [
    "## Potencial Tesseral e Setorial"
   ]
  },
  {
   "cell_type": "code",
   "execution_count": 20,
   "metadata": {},
   "outputs": [],
   "source": [
    "U_t = (µ / r) * \\\n",
    "      (1 - ((a_e / r)**2 * J_2 * (3 * (np.sin(ϕ))**2 - 1)) * (1 + np.sqrt(1 / (2 * 2 + 1))) - \\\n",
    "      ((3 / 2) * (a_e / r)**3 * J_3 * (5 * (np.sin(ϕ))**3 - 3 * np.sin(ϕ))) * (1 + np.sqrt(1 / (2 * 3 + 1))) + \\\n",
    "      (3 * (a_e / r)**2 * (C_21 * np.cos(λ) + S_21 * np.sin(λ)) * np.cos(ϕ) * np.sin(ϕ)) + \\\n",
    "      ((3 / 2) * (a_e / r)**3 * (C_31 * np.cos(λ) + S_31 * np.sin(λ)) * (4 * np.cos(ϕ) - 5 * (np.cos(ϕ))**3)) + \\\n",
    "      (3 * (a_e / r)**2 * (2 * C_22 * (np.cos(λ))**2 - C_22 + 2 * S_22 * np.cos(λ) * np.sin(λ)) * (np.cos(ϕ))**2) + \\\n",
    "      (15 * (a_e / r)**3 * (2 * C_32 * (np.cos(λ))**2 - C_32 + 2 * S_32 * np.cos(λ) * np.sin(λ)) * (np.sin(ϕ) - (np.sin(ϕ))**3)) + \\\n",
    "      (15 * (a_e / r)**3 * (4 * C_33 * (np.cos(λ))**3 - 3 * C_33 * np.cos(λ) + 3 * S_33 * np.sin(λ) - 4 * S_33 * (np.sin(λ))**3) * (np.cos(ϕ))**3))"
   ]
  },
  {
   "cell_type": "code",
   "execution_count": null,
   "metadata": {},
   "outputs": [],
   "source": []
  }
 ],
 "metadata": {
  "kernelspec": {
   "display_name": "Python 3 (ipykernel)",
   "language": "python",
   "name": "python3"
  },
  "language_info": {
   "codemirror_mode": {
    "name": "ipython",
    "version": 3
   },
   "file_extension": ".py",
   "mimetype": "text/x-python",
   "name": "python",
   "nbconvert_exporter": "python",
   "pygments_lexer": "ipython3",
   "version": "3.9.7"
  }
 },
 "nbformat": 4,
 "nbformat_minor": 2
}
